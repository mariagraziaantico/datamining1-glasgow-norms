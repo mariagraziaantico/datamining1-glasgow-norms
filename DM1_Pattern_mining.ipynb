{
  "cells": [
    {
      "cell_type": "code",
      "execution_count": null,
      "id": "a1fe5455",
      "metadata": {
        "id": "a1fe5455"
      },
      "outputs": [],
      "source": [
        "import pandas as pd\n",
        "import numpy as np\n",
        "import matplotlib.pyplot as plt\n",
        "import seaborn as sns\n",
        "%matplotlib inline"
      ]
    },
    {
      "cell_type": "code",
      "execution_count": null,
      "id": "4d2efae0",
      "metadata": {
        "id": "4d2efae0"
      },
      "outputs": [],
      "source": [
        "from fim import apriori"
      ]
    },
    {
      "cell_type": "code",
      "execution_count": null,
      "id": "af3cfbde",
      "metadata": {
        "id": "af3cfbde"
      },
      "outputs": [],
      "source": [
        "df= pd.read_csv('df_pattern_words.csv')"
      ]
    },
    {
      "cell_type": "code",
      "execution_count": null,
      "id": "39f960ff",
      "metadata": {
        "id": "39f960ff",
        "outputId": "af83904d-325b-474f-ca1f-7f841c1093d6"
      },
      "outputs": [
        {
          "data": {
            "text/html": [
              "<div>\n",
              "<style scoped>\n",
              "    .dataframe tbody tr th:only-of-type {\n",
              "        vertical-align: middle;\n",
              "    }\n",
              "\n",
              "    .dataframe tbody tr th {\n",
              "        vertical-align: top;\n",
              "    }\n",
              "\n",
              "    .dataframe thead th {\n",
              "        text-align: right;\n",
              "    }\n",
              "</style>\n",
              "<table border=\"1\" class=\"dataframe\">\n",
              "  <thead>\n",
              "    <tr style=\"text-align: right;\">\n",
              "      <th></th>\n",
              "      <th>Unnamed: 0</th>\n",
              "      <th>length</th>\n",
              "      <th>polysemy</th>\n",
              "      <th>arousal_bin</th>\n",
              "      <th>familiarity_bin</th>\n",
              "      <th>aoa_bin</th>\n",
              "      <th>semsize_bin</th>\n",
              "      <th>gender_bin</th>\n",
              "      <th>emotion_bin</th>\n",
              "      <th>visual_bin</th>\n",
              "    </tr>\n",
              "  </thead>\n",
              "  <tbody>\n",
              "    <tr>\n",
              "      <th>0</th>\n",
              "      <td>0</td>\n",
              "      <td>(6.0, 8.0]</td>\n",
              "      <td>Non Polisemica</td>\n",
              "      <td>(3.849, 4.571]_arousal</td>\n",
              "      <td>(1.6460000000000001, 4.706]_familiarity</td>\n",
              "      <td>(5.152, 6.971]_aoa</td>\n",
              "      <td>(4.186, 4.882]_semsize</td>\n",
              "      <td>(4.656, 6.971]_gender</td>\n",
              "      <td>(1.7790000000000001, 4.334]_emotion</td>\n",
              "      <td>(4.562, 5.97]_visual</td>\n",
              "    </tr>\n",
              "    <tr>\n",
              "      <th>1</th>\n",
              "      <td>1</td>\n",
              "      <td>(1.999, 5.0]</td>\n",
              "      <td>Non Polisemica</td>\n",
              "      <td>(2.056, 3.849]_arousal</td>\n",
              "      <td>(1.6460000000000001, 4.706]_familiarity</td>\n",
              "      <td>(5.152, 6.971]_aoa</td>\n",
              "      <td>(4.882, 6.912]_semsize</td>\n",
              "      <td>(0.999, 3.606]_gender</td>\n",
              "      <td>(5.21, 5.797]_emotion</td>\n",
              "      <td>(4.562, 5.97]_visual</td>\n",
              "    </tr>\n",
              "    <tr>\n",
              "      <th>2</th>\n",
              "      <td>2</td>\n",
              "      <td>(8.0, 16.0]</td>\n",
              "      <td>Non Polisemica</td>\n",
              "      <td>(2.056, 3.849]_arousal</td>\n",
              "      <td>(4.706, 5.438]_familiarity</td>\n",
              "      <td>(5.152, 6.971]_aoa</td>\n",
              "      <td>(1.374, 3.438]_semsize</td>\n",
              "      <td>(3.606, 4.121]_gender</td>\n",
              "      <td>(5.21, 5.797]_emotion</td>\n",
              "      <td>(1.802, 3.407]_visual</td>\n",
              "    </tr>\n",
              "    <tr>\n",
              "      <th>3</th>\n",
              "      <td>3</td>\n",
              "      <td>(6.0, 8.0]</td>\n",
              "      <td>Non Polisemica</td>\n",
              "      <td>(3.849, 4.571]_arousal</td>\n",
              "      <td>(1.6460000000000001, 4.706]_familiarity</td>\n",
              "      <td>(5.152, 6.971]_aoa</td>\n",
              "      <td>(4.186, 4.882]_semsize</td>\n",
              "      <td>(4.656, 6.971]_gender</td>\n",
              "      <td>(1.7790000000000001, 4.334]_emotion</td>\n",
              "      <td>(1.802, 3.407]_visual</td>\n",
              "    </tr>\n",
              "    <tr>\n",
              "      <th>4</th>\n",
              "      <td>4</td>\n",
              "      <td>(8.0, 16.0]</td>\n",
              "      <td>Non Polisemica</td>\n",
              "      <td>(2.056, 3.849]_arousal</td>\n",
              "      <td>(1.6460000000000001, 4.706]_familiarity</td>\n",
              "      <td>(5.152, 6.971]_aoa</td>\n",
              "      <td>(4.882, 6.912]_semsize</td>\n",
              "      <td>(4.121, 4.656]_gender</td>\n",
              "      <td>(4.334, 5.21]_emotion</td>\n",
              "      <td>(1.802, 3.407]_visual</td>\n",
              "    </tr>\n",
              "    <tr>\n",
              "      <th>...</th>\n",
              "      <td>...</td>\n",
              "      <td>...</td>\n",
              "      <td>...</td>\n",
              "      <td>...</td>\n",
              "      <td>...</td>\n",
              "      <td>...</td>\n",
              "      <td>...</td>\n",
              "      <td>...</td>\n",
              "      <td>...</td>\n",
              "      <td>...</td>\n",
              "    </tr>\n",
              "    <tr>\n",
              "      <th>4487</th>\n",
              "      <td>4677</td>\n",
              "      <td>(6.0, 8.0]</td>\n",
              "      <td>Non Polisemica</td>\n",
              "      <td>(5.419, 8.177]_arousal</td>\n",
              "      <td>(1.6460000000000001, 4.706]_familiarity</td>\n",
              "      <td>(5.152, 6.971]_aoa</td>\n",
              "      <td>(4.882, 6.912]_semsize</td>\n",
              "      <td>(4.656, 6.971]_gender</td>\n",
              "      <td>(4.334, 5.21]_emotion</td>\n",
              "      <td>(5.97, 6.925]_visual</td>\n",
              "    </tr>\n",
              "    <tr>\n",
              "      <th>4488</th>\n",
              "      <td>4678</td>\n",
              "      <td>(1.999, 5.0]</td>\n",
              "      <td>Non Polisemica</td>\n",
              "      <td>(3.849, 4.571]_arousal</td>\n",
              "      <td>(5.969, 6.939]_familiarity</td>\n",
              "      <td>(1.2180000000000002, 3.114]_aoa</td>\n",
              "      <td>(1.374, 3.438]_semsize</td>\n",
              "      <td>(4.121, 4.656]_gender</td>\n",
              "      <td>(4.334, 5.21]_emotion</td>\n",
              "      <td>(1.802, 3.407]_visual</td>\n",
              "    </tr>\n",
              "    <tr>\n",
              "      <th>4489</th>\n",
              "      <td>4679</td>\n",
              "      <td>(1.999, 5.0]</td>\n",
              "      <td>Non Polisemica</td>\n",
              "      <td>(5.419, 8.177]_arousal</td>\n",
              "      <td>(1.6460000000000001, 4.706]_familiarity</td>\n",
              "      <td>(5.152, 6.971]_aoa</td>\n",
              "      <td>(1.374, 3.438]_semsize</td>\n",
              "      <td>(0.999, 3.606]_gender</td>\n",
              "      <td>(5.797, 8.147]_emotion</td>\n",
              "      <td>(3.407, 4.562]_visual</td>\n",
              "    </tr>\n",
              "    <tr>\n",
              "      <th>4490</th>\n",
              "      <td>4680</td>\n",
              "      <td>(1.999, 5.0]</td>\n",
              "      <td>Non Polisemica</td>\n",
              "      <td>(5.419, 8.177]_arousal</td>\n",
              "      <td>(5.438, 5.969]_familiarity</td>\n",
              "      <td>(1.2180000000000002, 3.114]_aoa</td>\n",
              "      <td>(4.186, 4.882]_semsize</td>\n",
              "      <td>(3.606, 4.121]_gender</td>\n",
              "      <td>(5.797, 8.147]_emotion</td>\n",
              "      <td>(5.97, 6.925]_visual</td>\n",
              "    </tr>\n",
              "    <tr>\n",
              "      <th>4491</th>\n",
              "      <td>4681</td>\n",
              "      <td>(6.0, 8.0]</td>\n",
              "      <td>Non Polisemica</td>\n",
              "      <td>(3.849, 4.571]_arousal</td>\n",
              "      <td>(1.6460000000000001, 4.706]_familiarity</td>\n",
              "      <td>(5.152, 6.971]_aoa</td>\n",
              "      <td>(4.186, 4.882]_semsize</td>\n",
              "      <td>(3.606, 4.121]_gender</td>\n",
              "      <td>(5.21, 5.797]_emotion</td>\n",
              "      <td>(3.407, 4.562]_visual</td>\n",
              "    </tr>\n",
              "  </tbody>\n",
              "</table>\n",
              "<p>4492 rows × 10 columns</p>\n",
              "</div>"
            ],
            "text/plain": [
              "      Unnamed: 0        length        polysemy             arousal_bin  \\\n",
              "0              0    (6.0, 8.0]  Non Polisemica  (3.849, 4.571]_arousal   \n",
              "1              1  (1.999, 5.0]  Non Polisemica  (2.056, 3.849]_arousal   \n",
              "2              2   (8.0, 16.0]  Non Polisemica  (2.056, 3.849]_arousal   \n",
              "3              3    (6.0, 8.0]  Non Polisemica  (3.849, 4.571]_arousal   \n",
              "4              4   (8.0, 16.0]  Non Polisemica  (2.056, 3.849]_arousal   \n",
              "...          ...           ...             ...                     ...   \n",
              "4487        4677    (6.0, 8.0]  Non Polisemica  (5.419, 8.177]_arousal   \n",
              "4488        4678  (1.999, 5.0]  Non Polisemica  (3.849, 4.571]_arousal   \n",
              "4489        4679  (1.999, 5.0]  Non Polisemica  (5.419, 8.177]_arousal   \n",
              "4490        4680  (1.999, 5.0]  Non Polisemica  (5.419, 8.177]_arousal   \n",
              "4491        4681    (6.0, 8.0]  Non Polisemica  (3.849, 4.571]_arousal   \n",
              "\n",
              "                              familiarity_bin  \\\n",
              "0     (1.6460000000000001, 4.706]_familiarity   \n",
              "1     (1.6460000000000001, 4.706]_familiarity   \n",
              "2                  (4.706, 5.438]_familiarity   \n",
              "3     (1.6460000000000001, 4.706]_familiarity   \n",
              "4     (1.6460000000000001, 4.706]_familiarity   \n",
              "...                                       ...   \n",
              "4487  (1.6460000000000001, 4.706]_familiarity   \n",
              "4488               (5.969, 6.939]_familiarity   \n",
              "4489  (1.6460000000000001, 4.706]_familiarity   \n",
              "4490               (5.438, 5.969]_familiarity   \n",
              "4491  (1.6460000000000001, 4.706]_familiarity   \n",
              "\n",
              "                              aoa_bin             semsize_bin  \\\n",
              "0                  (5.152, 6.971]_aoa  (4.186, 4.882]_semsize   \n",
              "1                  (5.152, 6.971]_aoa  (4.882, 6.912]_semsize   \n",
              "2                  (5.152, 6.971]_aoa  (1.374, 3.438]_semsize   \n",
              "3                  (5.152, 6.971]_aoa  (4.186, 4.882]_semsize   \n",
              "4                  (5.152, 6.971]_aoa  (4.882, 6.912]_semsize   \n",
              "...                               ...                     ...   \n",
              "4487               (5.152, 6.971]_aoa  (4.882, 6.912]_semsize   \n",
              "4488  (1.2180000000000002, 3.114]_aoa  (1.374, 3.438]_semsize   \n",
              "4489               (5.152, 6.971]_aoa  (1.374, 3.438]_semsize   \n",
              "4490  (1.2180000000000002, 3.114]_aoa  (4.186, 4.882]_semsize   \n",
              "4491               (5.152, 6.971]_aoa  (4.186, 4.882]_semsize   \n",
              "\n",
              "                 gender_bin                          emotion_bin  \\\n",
              "0     (4.656, 6.971]_gender  (1.7790000000000001, 4.334]_emotion   \n",
              "1     (0.999, 3.606]_gender                (5.21, 5.797]_emotion   \n",
              "2     (3.606, 4.121]_gender                (5.21, 5.797]_emotion   \n",
              "3     (4.656, 6.971]_gender  (1.7790000000000001, 4.334]_emotion   \n",
              "4     (4.121, 4.656]_gender                (4.334, 5.21]_emotion   \n",
              "...                     ...                                  ...   \n",
              "4487  (4.656, 6.971]_gender                (4.334, 5.21]_emotion   \n",
              "4488  (4.121, 4.656]_gender                (4.334, 5.21]_emotion   \n",
              "4489  (0.999, 3.606]_gender               (5.797, 8.147]_emotion   \n",
              "4490  (3.606, 4.121]_gender               (5.797, 8.147]_emotion   \n",
              "4491  (3.606, 4.121]_gender                (5.21, 5.797]_emotion   \n",
              "\n",
              "                 visual_bin  \n",
              "0      (4.562, 5.97]_visual  \n",
              "1      (4.562, 5.97]_visual  \n",
              "2     (1.802, 3.407]_visual  \n",
              "3     (1.802, 3.407]_visual  \n",
              "4     (1.802, 3.407]_visual  \n",
              "...                     ...  \n",
              "4487   (5.97, 6.925]_visual  \n",
              "4488  (1.802, 3.407]_visual  \n",
              "4489  (3.407, 4.562]_visual  \n",
              "4490   (5.97, 6.925]_visual  \n",
              "4491  (3.407, 4.562]_visual  \n",
              "\n",
              "[4492 rows x 10 columns]"
            ]
          },
          "execution_count": 4,
          "metadata": {},
          "output_type": "execute_result"
        }
      ],
      "source": [
        "df"
      ]
    },
    {
      "cell_type": "code",
      "execution_count": null,
      "id": "a77de0f5",
      "metadata": {
        "id": "a77de0f5"
      },
      "outputs": [],
      "source": [
        "X = df.values.tolist()"
      ]
    },
    {
      "cell_type": "code",
      "execution_count": null,
      "id": "0babf8ce",
      "metadata": {
        "id": "0babf8ce"
      },
      "outputs": [],
      "source": [
        "max_itemsets = apriori(X, target='m', supp=2, zmin=3, report='S')\n",
        "all_itemsets = apriori(X, target='s', supp=2, zmin=3, report='S')"
      ]
    },
    {
      "cell_type": "code",
      "execution_count": null,
      "id": "c76d72d7",
      "metadata": {
        "id": "c76d72d7",
        "outputId": "cc2cf813-f961-4d2d-aca9-5959ea0ab7de"
      },
      "outputs": [
        {
          "data": {
            "text/plain": [
              "2255"
            ]
          },
          "execution_count": 53,
          "metadata": {},
          "output_type": "execute_result"
        }
      ],
      "source": [
        "len(all_itemsets)"
      ]
    },
    {
      "cell_type": "code",
      "execution_count": null,
      "id": "863b87a0",
      "metadata": {
        "id": "863b87a0",
        "outputId": "1b720ef5-0a45-49b4-ee64-2166f425b7fc"
      },
      "outputs": [
        {
          "data": {
            "text/plain": [
              "[(('Polisemica', '(5.97, 6.925]_visual', '(1.999, 5.0]'), 2.1816562778272486),\n",
              " (('Polisemica',\n",
              "   '(1.2180000000000002, 3.114]_aoa',\n",
              "   '(5.969, 6.939]_familiarity'),\n",
              "  2.3820124666073017),\n",
              " (('Polisemica', '(1.2180000000000002, 3.114]_aoa', '(1.999, 5.0]'),\n",
              "  3.227960819234194),\n",
              " (('Polisemica', '(5.969, 6.939]_familiarity', '(1.999, 5.0]'),\n",
              "  2.3374888691006235),\n",
              " (('Polisemica', '(4.562, 5.97]_visual', '(1.999, 5.0]'), 2.2707034728406055)]"
            ]
          },
          "execution_count": 52,
          "metadata": {},
          "output_type": "execute_result"
        }
      ],
      "source": [
        "max_itemsets[:5]"
      ]
    },
    {
      "cell_type": "code",
      "execution_count": null,
      "id": "e669d16b",
      "metadata": {
        "id": "e669d16b",
        "outputId": "5b036dac-4b2f-4c49-9054-56d22361ed48"
      },
      "outputs": [
        {
          "data": {
            "text/plain": [
              "[(('Polisemica', '(5.97, 6.925]_visual', '(1.999, 5.0]'), 2.1816562778272486),\n",
              " (('Polisemica',\n",
              "   '(1.2180000000000002, 3.114]_aoa',\n",
              "   '(5.969, 6.939]_familiarity'),\n",
              "  2.3820124666073017),\n",
              " (('Polisemica', '(1.2180000000000002, 3.114]_aoa', '(1.999, 5.0]'),\n",
              "  3.227960819234194),\n",
              " (('Polisemica', '(5.969, 6.939]_familiarity', '(1.999, 5.0]'),\n",
              "  2.3374888691006235),\n",
              " (('Polisemica', '(4.562, 5.97]_visual', '(1.999, 5.0]'), 2.2707034728406055)]"
            ]
          },
          "execution_count": 46,
          "metadata": {},
          "output_type": "execute_result"
        }
      ],
      "source": [
        "all_itemsets[:5]"
      ]
    },
    {
      "cell_type": "code",
      "execution_count": null,
      "id": "14bf1897",
      "metadata": {
        "id": "14bf1897",
        "outputId": "6edcb706-5287-4f34-eba7-616e0a8cef36"
      },
      "outputs": [
        {
          "data": {
            "image/png": "[encoded data removed]",
            "text/plain": [
              "<Figure size 432x288 with 1 Axes>"
            ]
          },
          "metadata": {
            "needs_background": "light"
          },
          "output_type": "display_data"
        }
      ],
      "source": [
        "len_max_it = []\n",
        "len_all_it = []\n",
        "for i in range(2, 20+1):\n",
        "    max_itemsets = apriori(X, target='m', supp=i, zmin=3)\n",
        "    all_itemsets = apriori(X, target='s', supp=i, zmin=3)\n",
        "    len_max_it.append( len(max_itemsets)  )\n",
        "    len_all_it.append( len(all_itemsets) )\n",
        "\n",
        "plt.plot(len_max_it, label='maximal')\n",
        "plt.plot(len_all_it, label='all')\n",
        "plt.legend(fontsize=20)\n",
        "plt.xticks(fontsize=20)\n",
        "plt.xlabel('%support', fontsize=15)\n",
        "\n",
        "plt.show()"
      ]
    },
    {
      "cell_type": "code",
      "execution_count": null,
      "id": "34eaebee",
      "metadata": {
        "id": "34eaebee",
        "outputId": "2c5a9a0f-ecc1-4ef6-bc05-48b09e762df1"
      },
      "outputs": [
        {
          "data": {
            "image/png": "[encoded data removed]",
            "text/plain": [
              "<Figure size 432x288 with 1 Axes>"
            ]
          },
          "metadata": {
            "needs_background": "light"
          },
          "output_type": "display_data"
        }
      ],
      "source": [
        "len_max_it = []\n",
        "len_cl_it = []\n",
        "for i in range(2, 20+1):\n",
        "    max_itemsets = apriori(X, target='m', supp=i, zmin=3)\n",
        "    cl_itemsets = apriori(X, target='c', supp=i, zmin=3)\n",
        "    len_max_it.append( len(max_itemsets)  )\n",
        "    len_cl_it.append( len(cl_itemsets) )\n",
        "\n",
        "plt.plot(len_max_it, label='maximal')\n",
        "plt.plot(len_cl_it, label='closed')\n",
        "plt.legend(fontsize=20)\n",
        "plt.xticks(fontsize=20)\n",
        "plt.xlabel('%support', fontsize=15)\n",
        "\n",
        "plt.show()"
      ]
    },
    {
      "cell_type": "code",
      "execution_count": null,
      "id": "e88868a1",
      "metadata": {
        "id": "e88868a1",
        "outputId": "baebe8de-3538-442d-b895-56c1dc2acd5f"
      },
      "outputs": [
        {
          "data": {
            "image/png": "[encoded data removed]",
            "text/plain": [
              "<Figure size 432x288 with 1 Axes>"
            ]
          },
          "metadata": {
            "needs_background": "light"
          },
          "output_type": "display_data"
        }
      ],
      "source": [
        "len_all_it1 = []\n",
        "len_cl_it1 = []\n",
        "for i in range(2, 20+1):\n",
        "    all_itemsets1 = apriori(X, target='s', supp=i, zmin=3)\n",
        "    close_itemsets1 = apriori(X, target='c', supp=i, zmin=3)\n",
        "    len_all_it1.append( len(all_itemsets1)  )\n",
        "    len_cl_it1.append( len(close_itemsets1) )\n",
        "\n",
        "plt.plot(len_all_it1, label='all')\n",
        "plt.plot(len_cl_it1, label='closed')\n",
        "plt.legend(fontsize=20)\n",
        "plt.xticks(fontsize=20)\n",
        "plt.xlabel('%support', fontsize=15)\n",
        "\n",
        "plt.show()"
      ]
    },
    {
      "cell_type": "code",
      "execution_count": null,
      "id": "08c1fd6c",
      "metadata": {
        "id": "08c1fd6c",
        "outputId": "d4f85edb-08f8-4abe-c2a1-c82f37aa8e03"
      },
      "outputs": [
        {
          "data": {
            "image/png": "[encoded data removed]",
            "text/plain": [
              "<Figure size 432x288 with 1 Axes>"
            ]
          },
          "metadata": {
            "needs_background": "light"
          },
          "output_type": "display_data"
        }
      ],
      "source": [
        "filter_1 = []\n",
        "filter_2 = []\n",
        "for i in range(2, 20+1):\n",
        "    max_itemsets = apriori(X, target='m', supp=i, zmin=3)\n",
        "\n",
        "    filter_1.append( len([item for item in max_itemsets if 'Non Polisemica' in item[0]])  )\n",
        "    filter_2.append( len([item for item in max_itemsets if 'Polisemica' in item[0]]) )\n",
        "\n",
        "plt.plot(filter_1, label='w/ Non Polisemica')\n",
        "plt.plot(filter_2, label='w/ Polisemica')\n",
        "plt.legend(fontsize=20)\n",
        "plt.xticks(fontsize=20)\n",
        "plt.xlabel('%support', fontsize=15)\n",
        "\n",
        "plt.show()"
      ]
    },
    {
      "cell_type": "code",
      "execution_count": null,
      "id": "362726ac",
      "metadata": {
        "id": "362726ac"
      },
      "outputs": [],
      "source": [
        "rules = apriori(X, target='r', supp=10, zmin=3, conf=60, report='aScl')"
      ]
    },
    {
      "cell_type": "code",
      "execution_count": null,
      "id": "046af592",
      "metadata": {
        "id": "046af592",
        "outputId": "c01159e2-5f04-48ed-cf27-444f4e954540"
      },
      "outputs": [
        {
          "data": {
            "text/plain": [
              "[('(5.419, 8.177]_arousal',\n",
              "  ('(0.999, 3.606]_gender', '(5.797, 8.147]_emotion', 'Non Polisemica'),\n",
              "  292,\n",
              "  6.500445235975066,\n",
              "  0.6226012793176973,\n",
              "  2.5823868390536435),\n",
              " ('(5.419, 8.177]_arousal',\n",
              "  ('(0.999, 3.606]_gender', '(5.797, 8.147]_emotion'),\n",
              "  307,\n",
              "  6.834372217275156,\n",
              "  0.6239837398373984,\n",
              "  2.5881209227604742),\n",
              " ('Non Polisemica',\n",
              "  ('(0.999, 3.606]_gender', '(5.797, 8.147]_emotion'),\n",
              "  469,\n",
              "  10.440783615316118,\n",
              "  0.9532520325203252,\n",
              "  1.0388180810483505),\n",
              " ('(1.374, 3.438]_semsize',\n",
              "  ('(5.97, 6.925]_visual', '(1.2180000000000002, 3.114]_aoa'),\n",
              "  329,\n",
              "  7.32413178984862,\n",
              "  0.6302681992337165,\n",
              "  2.521072796934866),\n",
              " ('(5.97, 6.925]_visual',\n",
              "  ('(1.2180000000000002, 3.114]_aoa', '(1.374, 3.438]_semsize'),\n",
              "  329,\n",
              "  7.32413178984862,\n",
              "  0.724669603524229,\n",
              "  3.0140887583618863)]"
            ]
          },
          "execution_count": 31,
          "metadata": {},
          "output_type": "execute_result"
        }
      ],
      "source": [
        "rules[:5]"
      ]
    },
    {
      "cell_type": "code",
      "execution_count": null,
      "id": "d8845449",
      "metadata": {
        "id": "d8845449",
        "outputId": "d6fa881d-7862-42da-a000-47b2900c1191"
      },
      "outputs": [
        {
          "data": {
            "text/plain": [
              "('(5.419, 8.177]_arousal',\n",
              " ('(0.999, 3.606]_gender', '(5.797, 8.147]_emotion', 'Non Polisemica'))"
            ]
          },
          "execution_count": 36,
          "metadata": {},
          "output_type": "execute_result"
        }
      ],
      "source": [
        "# <--\n",
        "rules[0][0], rules[0][1]"
      ]
    },
    {
      "cell_type": "code",
      "execution_count": null,
      "id": "9f223b7b",
      "metadata": {
        "id": "9f223b7b",
        "outputId": "9856758d-ec18-4e84-ee81-a89ea6dfda43"
      },
      "outputs": [
        {
          "data": {
            "text/plain": [
              "292"
            ]
          },
          "execution_count": 16,
          "metadata": {},
          "output_type": "execute_result"
        }
      ],
      "source": [
        "# asbolute support\n",
        "rules[0][2]"
      ]
    },
    {
      "cell_type": "code",
      "execution_count": null,
      "id": "d1c88b21",
      "metadata": {
        "id": "d1c88b21",
        "outputId": "cb58ba64-56a6-4501-d3ed-b5e64b8efcc0"
      },
      "outputs": [
        {
          "data": {
            "text/plain": [
              "6.500445235975066"
            ]
          },
          "execution_count": 17,
          "metadata": {},
          "output_type": "execute_result"
        }
      ],
      "source": [
        "# support as percentage\n",
        "rules[0][3]"
      ]
    },
    {
      "cell_type": "code",
      "execution_count": null,
      "id": "11fd354d",
      "metadata": {
        "id": "11fd354d",
        "outputId": "74f046a9-d10b-4c73-e6e6-7e7c3ddc60c0"
      },
      "outputs": [
        {
          "data": {
            "text/plain": [
              "0.6226012793176973"
            ]
          },
          "execution_count": 18,
          "metadata": {},
          "output_type": "execute_result"
        }
      ],
      "source": [
        "# confidence\n",
        "rules[0][4]"
      ]
    },
    {
      "cell_type": "code",
      "execution_count": null,
      "id": "bc925569",
      "metadata": {
        "id": "bc925569",
        "outputId": "4b0f55be-4bfb-4720-db05-68174cef0192"
      },
      "outputs": [
        {
          "data": {
            "text/plain": [
              "2.5823868390536435"
            ]
          },
          "execution_count": 19,
          "metadata": {},
          "output_type": "execute_result"
        }
      ],
      "source": [
        "# lift\n",
        "rules[0][5]"
      ]
    },
    {
      "cell_type": "code",
      "execution_count": null,
      "id": "145c7fd3",
      "metadata": {
        "id": "145c7fd3"
      },
      "outputs": [],
      "source": [
        "for r in rules:\n",
        "    if r[0] == '(0.999, 3.606]_gender':\n",
        "        print(r)"
      ]
    },
    {
      "cell_type": "code",
      "execution_count": null,
      "id": "d9001a7c",
      "metadata": {
        "id": "d9001a7c",
        "outputId": "ce8a1ba1-aa2b-4723-f147-c71d70ee0c84"
      },
      "outputs": [
        {
          "data": {
            "text/plain": [
              "('Non Polisemica',\n",
              " ('(0.999, 3.606]_gender', '(5.797, 8.147]_emotion'),\n",
              " 469,\n",
              " 10.440783615316118,\n",
              " 0.9532520325203252,\n",
              " 1.0388180810483505)"
            ]
          },
          "execution_count": 21,
          "metadata": {},
          "output_type": "execute_result"
        }
      ],
      "source": [
        "[r for r in rules if r[0] == 'Non Polisemica'][0]"
      ]
    },
    {
      "cell_type": "code",
      "execution_count": null,
      "id": "abfd638a",
      "metadata": {
        "id": "abfd638a"
      },
      "outputs": [],
      "source": [
        "len_r = []\n",
        "for i in range(1, 20+1): #support\n",
        "    len_r_wrt_i = []\n",
        "    for j in range(60, 80+1): #confidence\n",
        "        rules = apriori(X, target='r', supp=i, zmin=3, conf=j, report='aScl')\n",
        "\n",
        "        len_r_wrt_i.append(len(rules)) # study your characteristics/properties here\n",
        "\n",
        "    len_r.append(len_r_wrt_i)"
      ]
    },
    {
      "cell_type": "code",
      "execution_count": null,
      "id": "2e47634d",
      "metadata": {
        "id": "2e47634d",
        "outputId": "30627d82-056a-4c77-8da1-fbd38a7870dd"
      },
      "outputs": [
        {
          "data": {
            "image/png": "[encoded data removed]",
            "text/plain": [
              "<Figure size 432x288 with 2 Axes>"
            ]
          },
          "metadata": {
            "needs_background": "light"
          },
          "output_type": "display_data"
        }
      ],
      "source": [
        "plt.imshow( len_r, cmap='Blues', alpha=0.8 )\n",
        "plt.xlabel('%support', fontsize=20)\n",
        "plt.ylabel('%confidence', fontsize=20)\n",
        "plt.xticks(fontsize=20)\n",
        "plt.yticks( np.arange(0,20+1,4), np.arange(60,80+1,4), fontsize=20  )\n",
        "plt.colorbar()\n",
        "\n",
        "plt.show()"
      ]
    },
    {
      "cell_type": "code",
      "execution_count": null,
      "id": "2111be66",
      "metadata": {
        "id": "2111be66"
      },
      "outputs": [],
      "source": []
    }
  ],
  "metadata": {
    "kernelspec": {
      "display_name": "Python 3",
      "language": "python",
      "name": "python3"
    },
    "language_info": {
      "codemirror_mode": {
        "name": "ipython",
        "version": 3
      },
      "file_extension": ".py",
      "mimetype": "text/x-python",
      "name": "python",
      "nbconvert_exporter": "python",
      "pygments_lexer": "ipython3",
      "version": "3.8.8"
    },
    "colab": {
      "provenance": []
    }
  },
  "nbformat": 4,
  "nbformat_minor": 5
}